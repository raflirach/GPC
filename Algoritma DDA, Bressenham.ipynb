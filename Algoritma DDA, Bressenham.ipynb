{
 "cells": [
  {
   "cell_type": "code",
   "execution_count": 4,
   "metadata": {},
   "outputs": [],
   "source": [
    "import numpy as np\n",
    "import pandas as pd\n",
    "from matplotlib import pyplot as plt"
   ]
  },
  {
   "cell_type": "markdown",
   "metadata": {},
   "source": [
    "## Algoritma DDA Garis"
   ]
  },
  {
   "cell_type": "code",
   "execution_count": null,
   "metadata": {},
   "outputs": [],
   "source": []
  },
  {
   "cell_type": "code",
   "execution_count": null,
   "metadata": {},
   "outputs": [],
   "source": [
    "def dda(x0,y0,x1,y1):\n",
    "    x = []\n",
    "    y = []\n",
    "    deltaX = x1-x0\n",
    "    deltaY = y1-y0\n",
    "    if abs(deltaX) > abs(deltaY):\n",
    "      step = abs(deltaX)\n",
    "    else:\n",
    "      step = abs(deltaY)\n",
    "    x_inc = abs(deltaX) / step\n",
    "    y_inc = abs(deltaY) / step\n",
    "    for i in range(step):\n",
    "        x0 = x0 + x_inc\n",
    "        y0 = y0 + y_inc\n",
    "        x.append(x0)\n",
    "        y.append(y0)\n",
    "    return x,y"
   ]
  },
  {
   "cell_type": "code",
   "execution_count": null,
   "metadata": {},
   "outputs": [],
   "source": [
    "x, y = dda(20,10,30,18)\n",
    "dda(20,10,30,18)"
   ]
  },
  {
   "cell_type": "code",
   "execution_count": null,
   "metadata": {},
   "outputs": [],
   "source": [
    "%%HTML\n",
    "<style type=\"text/css\">\n",
    "table.dataframe td, table.dataframe th {\n",
    "    border: 1px  black solid !important;\n",
    "  color: black !important;\n",
    "}\n",
    "</style>"
   ]
  },
  {
   "cell_type": "code",
   "execution_count": null,
   "metadata": {},
   "outputs": [],
   "source": [
    "\n",
    "round_x = [round(x) for x in x]\n",
    "round_y = [round(x) for x in y]\n",
    "\n",
    "df = pd.DataFrame({'x': x, 'y':y})\n",
    "rd = pd.DataFrame({'round(x)':round_x, 'round(y)':round_y})\n",
    "df['round(x),round(y)']= \"{\"+rd[\"round(x)\"].astype(str) +\",\"+ rd[\"round(y)\"].astype(str)+\"}\"\n",
    "df"
   ]
  },
  {
   "cell_type": "code",
   "execution_count": null,
   "metadata": {},
   "outputs": [],
   "source": [
    "plt.plot(x, y)\n",
    "plt.title('Garis dengan Algoritma DDA')\n",
    "plt.show()"
   ]
  },
  {
   "cell_type": "markdown",
   "metadata": {},
   "source": [
    "## Algoritma Bressenham Garis "
   ]
  },
  {
   "cell_type": "code",
   "execution_count": null,
   "metadata": {},
   "outputs": [],
   "source": [
    "def bresenham(x0,y0,x1,y1):  \n",
    "    xbresenham = []\n",
    "    ybresenham = []\n",
    "    deltaX = x1-x0\n",
    "    deltaY = y1-y0\n",
    "    delta2x = 2*deltaX\n",
    "    delta2y = 2*deltaY\n",
    "    delta2y2x = delta2y-delta2x\n",
    "    p0 = delta2y-deltaX\n",
    "    pk = p0\n",
    "    for i in range(deltaX):\n",
    "        if pk==p0 and pk>0:\n",
    "            x0 = x0+1\n",
    "            y0 = y0+1\n",
    "            pk = pk+delta2y2x\n",
    "            xbresenham.append(x0)\n",
    "            ybresenham.append(y0)\n",
    "        elif pk!=p0 and pk>0:\n",
    "            x0 = x0+1\n",
    "            y0 = y0+1\n",
    "            pk = pk+delta2y2x\n",
    "            xbresenham.append(x0)\n",
    "            ybresenham.append(y0)\n",
    "        else:\n",
    "            x0 = x0+1\n",
    "            pk = pk+1+delta2y\n",
    "            xbresenham.append(x0)\n",
    "            ybresenham.append(y0)\n",
    "    return xbresenham,ybresenham"
   ]
  },
  {
   "cell_type": "code",
   "execution_count": null,
   "metadata": {},
   "outputs": [],
   "source": [
    "xbresenham, ybresenham = bresenham(20,10,30,18)\n",
    "bresenham(20,10,30,18)"
   ]
  },
  {
   "cell_type": "code",
   "execution_count": null,
   "metadata": {},
   "outputs": [],
   "source": [
    "pd.DataFrame({'x': xbresenham, 'y':ybresenham})"
   ]
  },
  {
   "cell_type": "code",
   "execution_count": null,
   "metadata": {},
   "outputs": [],
   "source": [
    "plt.plot(xbresenham, ybresenham)\n",
    "plt.title('Garis dengan Algoritma Bresenham')\n",
    "plt.show()"
   ]
  },
  {
   "cell_type": "markdown",
   "metadata": {},
   "source": [
    "## Algoritma Bressenham Lingkaran"
   ]
  },
  {
   "cell_type": "code",
   "execution_count": 7,
   "metadata": {},
   "outputs": [],
   "source": [
    "def bressenhamcirc(x0,y0,r):\n",
    "    xbresenhamcirc = []\n",
    "    ybresenhamcirc = []\n",
    "    duax = []\n",
    "    duay = []\n",
    "    pks = []\n",
    "    y0 = y0+r\n",
    "    pk = 1-r\n",
    "    pks.append(pk)\n",
    "    deltax = 2*x0\n",
    "    deltay = 2*y0\n",
    "    while y0>x0:\n",
    "        if pk < 0:\n",
    "            x0 = x0+1\n",
    "            deltax = 2*x0\n",
    "            deltay = 2*y0\n",
    "            pk = pk+deltax+1\n",
    "            xbresenhamcirc.append(x0)\n",
    "            ybresenhamcirc.append(y0)\n",
    "            pks.append(pk)\n",
    "            duax.append(deltax)\n",
    "            duay.append(deltay)\n",
    "        else:\n",
    "            x0 = x0+1\n",
    "            y0 = y0-1\n",
    "            deltax = 2*x0\n",
    "            deltay = 2*y0\n",
    "            pk = pk+deltax+1-deltay\n",
    "            pks.append(pk)\n",
    "            xbresenhamcirc.append(x0)\n",
    "            ybresenhamcirc.append(y0)\n",
    "            duax.append(deltax)\n",
    "            duay.append(deltay)\n",
    "        \n",
    "    return xbresenhamcirc,ybresenhamcirc,pks,duax,duay"
   ]
  },
  {
   "cell_type": "code",
   "execution_count": 16,
   "metadata": {},
   "outputs": [
    {
     "data": {
      "text/plain": [
       "([1, 2, 3, 4, 5, 6, 7],\n",
       " [9, 9, 8, 8, 7, 7, 6],\n",
       " [-8, -5, 0, -9, 0, -3, 10, 13],\n",
       " [2, 4, 6, 8, 10, 12, 14],\n",
       " [18, 18, 16, 16, 14, 14, 12])"
      ]
     },
     "execution_count": 16,
     "metadata": {},
     "output_type": "execute_result"
    }
   ],
   "source": [
    "xbresenhamcirc,ybresenhamcirc,pks,duax,duay = bressenhamcirc(0,0,9)\n",
    "pks = pks[:-1]\n",
    "bressenhamcirc(0,0,9)"
   ]
  },
  {
   "cell_type": "code",
   "execution_count": 17,
   "metadata": {},
   "outputs": [
    {
     "data": {
      "text/html": [
       "<div>\n",
       "<style scoped>\n",
       "    .dataframe tbody tr th:only-of-type {\n",
       "        vertical-align: middle;\n",
       "    }\n",
       "\n",
       "    .dataframe tbody tr th {\n",
       "        vertical-align: top;\n",
       "    }\n",
       "\n",
       "    .dataframe thead th {\n",
       "        text-align: right;\n",
       "    }\n",
       "</style>\n",
       "<table border=\"1\" class=\"dataframe\">\n",
       "  <thead>\n",
       "    <tr style=\"text-align: right;\">\n",
       "      <th></th>\n",
       "      <th>pk</th>\n",
       "      <th>x</th>\n",
       "      <th>y</th>\n",
       "      <th>2x</th>\n",
       "      <th>2y</th>\n",
       "    </tr>\n",
       "  </thead>\n",
       "  <tbody>\n",
       "    <tr>\n",
       "      <td>0</td>\n",
       "      <td>-8</td>\n",
       "      <td>1</td>\n",
       "      <td>9</td>\n",
       "      <td>2</td>\n",
       "      <td>18</td>\n",
       "    </tr>\n",
       "    <tr>\n",
       "      <td>1</td>\n",
       "      <td>-5</td>\n",
       "      <td>2</td>\n",
       "      <td>9</td>\n",
       "      <td>4</td>\n",
       "      <td>18</td>\n",
       "    </tr>\n",
       "    <tr>\n",
       "      <td>2</td>\n",
       "      <td>0</td>\n",
       "      <td>3</td>\n",
       "      <td>8</td>\n",
       "      <td>6</td>\n",
       "      <td>16</td>\n",
       "    </tr>\n",
       "    <tr>\n",
       "      <td>3</td>\n",
       "      <td>-9</td>\n",
       "      <td>4</td>\n",
       "      <td>8</td>\n",
       "      <td>8</td>\n",
       "      <td>16</td>\n",
       "    </tr>\n",
       "    <tr>\n",
       "      <td>4</td>\n",
       "      <td>0</td>\n",
       "      <td>5</td>\n",
       "      <td>7</td>\n",
       "      <td>10</td>\n",
       "      <td>14</td>\n",
       "    </tr>\n",
       "    <tr>\n",
       "      <td>5</td>\n",
       "      <td>-3</td>\n",
       "      <td>6</td>\n",
       "      <td>7</td>\n",
       "      <td>12</td>\n",
       "      <td>14</td>\n",
       "    </tr>\n",
       "    <tr>\n",
       "      <td>6</td>\n",
       "      <td>10</td>\n",
       "      <td>7</td>\n",
       "      <td>6</td>\n",
       "      <td>14</td>\n",
       "      <td>12</td>\n",
       "    </tr>\n",
       "  </tbody>\n",
       "</table>\n",
       "</div>"
      ],
      "text/plain": [
       "   pk  x  y  2x  2y\n",
       "0  -8  1  9   2  18\n",
       "1  -5  2  9   4  18\n",
       "2   0  3  8   6  16\n",
       "3  -9  4  8   8  16\n",
       "4   0  5  7  10  14\n",
       "5  -3  6  7  12  14\n",
       "6  10  7  6  14  12"
      ]
     },
     "execution_count": 17,
     "metadata": {},
     "output_type": "execute_result"
    }
   ],
   "source": [
    "pd.DataFrame({'pk':pks, 'x': xbresenhamcirc, 'y':ybresenhamcirc,'2x':duax,'2y':duay})"
   ]
  },
  {
   "cell_type": "code",
   "execution_count": 18,
   "metadata": {},
   "outputs": [
    {
     "data": {
      "image/png": "[encoded data removed]",
      "text/plain": [
       "<Figure size 432x288 with 1 Axes>"
      ]
     },
     "metadata": {
      "needs_background": "light"
     },
     "output_type": "display_data"
    }
   ],
   "source": [
    "plt.plot(xbresenhamcirc,ybresenhamcirc)\n",
    "plt.title('Garis dengan Algoritma Bresenham')\n",
    "plt.show()"
   ]
  },
  {
   "cell_type": "code",
   "execution_count": null,
   "metadata": {},
   "outputs": [],
   "source": []
  },
  {
   "cell_type": "code",
   "execution_count": null,
   "metadata": {},
   "outputs": [],
   "source": []
  }
 ],
 "metadata": {
  "kernelspec": {
   "display_name": "Python 3",
   "language": "python",
   "name": "python3"
  },
  "language_info": {
   "codemirror_mode": {
    "name": "ipython",
    "version": 3
   },
   "file_extension": ".py",
   "mimetype": "text/x-python",
   "name": "python",
   "nbconvert_exporter": "python",
   "pygments_lexer": "ipython3",
   "version": "3.7.4"
  }
 },
 "nbformat": 4,
 "nbformat_minor": 2
}
